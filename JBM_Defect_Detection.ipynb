{
 "cells": [
  {
   "cell_type": "markdown",
   "id": "behavioral-wayne",
   "metadata": {},
   "source": [
    "Using TensorFlow Convoluted Neural Network to Identify Defected Parts"
   ]
  },
  {
   "cell_type": "code",
   "execution_count": 1,
   "id": "periodic-emission",
   "metadata": {},
   "outputs": [],
   "source": [
    "import tensorflow as tf\n",
    "from tensorflow.keras.models import Sequential\n",
    "from tensorflow.keras.layers import Dense, Dropout, Activation, Flatten, Conv2D, MaxPooling2D"
   ]
  },
  {
   "cell_type": "markdown",
   "id": "radio-curve",
   "metadata": {},
   "source": [
    "Define Parameters for Preprocessing"
   ]
  },
  {
   "cell_type": "code",
   "execution_count": 2,
   "id": "sunset-second",
   "metadata": {},
   "outputs": [],
   "source": [
    "batch_size = 32\n",
    "img_height = 512\n",
    "img_width = 512\n",
    "data_dir = r\"C:\\Users\\Gaurav Gosain\\Desktop\\Important Docs\\JBM Assignment\\Clubbed Classified Directory - Copy\""
   ]
  },
  {
   "cell_type": "markdown",
   "id": "figured-induction",
   "metadata": {},
   "source": [
    "Import Data from Local Computer"
   ]
  },
  {
   "cell_type": "code",
   "execution_count": 3,
   "id": "billion-bloom",
   "metadata": {
    "scrolled": true
   },
   "outputs": [
    {
     "name": "stdout",
     "output_type": "stream",
     "text": [
      "Found 385 files belonging to 2 classes.\n",
      "Using 251 files for training.\n"
     ]
    }
   ],
   "source": [
    "train_ds = tf.keras.preprocessing.image_dataset_from_directory(\n",
    "data_dir, labels='inferred', label_mode='int', color_mode='grayscale',image_size=(img_height, img_width),interpolation='bilinear', follow_links=False, \n",
    "validation_split=0.35,seed = 123, subset=\"training\",batch_size=batch_size)"
   ]
  },
  {
   "cell_type": "markdown",
   "id": "fallen-tower",
   "metadata": {},
   "source": [
    "Create Validation Data from Local Computer"
   ]
  },
  {
   "cell_type": "code",
   "execution_count": 4,
   "id": "arctic-prize",
   "metadata": {},
   "outputs": [
    {
     "name": "stdout",
     "output_type": "stream",
     "text": [
      "Found 385 files belonging to 2 classes.\n",
      "Using 134 files for validation.\n"
     ]
    }
   ],
   "source": [
    "val_ds = tf.keras.preprocessing.image_dataset_from_directory(\n",
    "data_dir, labels='inferred', label_mode='int', color_mode='grayscale',image_size=(img_height, img_width),interpolation='bilinear', follow_links=False, \n",
    "validation_split=0.35,seed = 123,subset=\"validation\",batch_size=batch_size)"
   ]
  },
  {
   "cell_type": "code",
   "execution_count": 5,
   "id": "hawaiian-defense",
   "metadata": {},
   "outputs": [
    {
     "name": "stdout",
     "output_type": "stream",
     "text": [
      "['Bad', 'Good']\n"
     ]
    }
   ],
   "source": [
    "class_names = train_ds.class_names\n",
    "print(class_names)"
   ]
  },
  {
   "cell_type": "markdown",
   "id": "lonely-substitute",
   "metadata": {},
   "source": [
    "Apply Data Augmentation - Rotation and Flipping"
   ]
  },
  {
   "cell_type": "code",
   "execution_count": 6,
   "id": "developmental-publisher",
   "metadata": {},
   "outputs": [],
   "source": [
    "from tensorflow.keras import layers\n",
    "data_augmentation = tf.keras.Sequential([\n",
    "  layers.experimental.preprocessing.RandomFlip(\"horizontal_and_vertical\"),\n",
    "  layers.experimental.preprocessing.RandomRotation(0.5),\n",
    "])"
   ]
  },
  {
   "cell_type": "markdown",
   "id": "running-murder",
   "metadata": {},
   "source": [
    "Deploy a Convolution Neural Network with 16 Filter Zone and a 4 x 4 Pixel Moving Window"
   ]
  },
  {
   "cell_type": "code",
   "execution_count": 7,
   "id": "musical-screw",
   "metadata": {},
   "outputs": [],
   "source": [
    "num_classes = 2\n",
    "CNN_Filters = 8\n",
    "filter_window = (4,4)\n",
    "pool_size = (2,2)\n",
    "\n",
    "from tensorflow.keras import layers\n",
    "model = tf.keras.Sequential([ \n",
    "  layers.experimental.preprocessing.Rescaling(1./255),\n",
    "  data_augmentation, \n",
    "  \n",
    "  # First Convolutional Layer\n",
    "  layers.Conv2D(CNN_Filters, filter_window, kernel_regularizer=tf.keras.regularizers.L1(0.01),activation='relu'),\n",
    "  layers.MaxPooling2D(pool_size = pool_size),\n",
    "  layers.Dropout(0.5),\n",
    "  \n",
    "  layers.Flatten(),\n",
    "  layers.Dense(CNN_Filters, kernel_regularizer=tf.keras.regularizers.L1(0.01), activation='relu'),\n",
    "  \n",
    "  # Output Dense Layer\n",
    "  layers.Dense(num_classes)\n",
    "])"
   ]
  },
  {
   "cell_type": "markdown",
   "id": "boring-roommate",
   "metadata": {},
   "source": [
    "Compile the CNN Model"
   ]
  },
  {
   "cell_type": "code",
   "execution_count": 8,
   "id": "nearby-selection",
   "metadata": {},
   "outputs": [],
   "source": [
    "from keras.optimizers import SGD\n",
    "model.compile(\n",
    "  optimizer='Adam',\n",
    "  loss=tf.losses.SparseCategoricalCrossentropy(from_logits=True),\n",
    "  metrics=['accuracy'])"
   ]
  },
  {
   "cell_type": "markdown",
   "id": "processed-industry",
   "metadata": {},
   "source": [
    "Fit the Model with 5 Epochs"
   ]
  },
  {
   "cell_type": "code",
   "execution_count": 9,
   "id": "honey-spencer",
   "metadata": {},
   "outputs": [
    {
     "name": "stdout",
     "output_type": "stream",
     "text": [
      "Epoch 1/10\n",
      "8/8 [==============================] - 15s 2s/step - loss: 36.4695 - accuracy: 0.7092 - val_loss: 21.0876 - val_accuracy: 0.8433\n",
      "Epoch 2/10\n",
      "8/8 [==============================] - 14s 2s/step - loss: 17.3516 - accuracy: 0.7450 - val_loss: 14.2448 - val_accuracy: 0.8433\n",
      "Epoch 3/10\n",
      "8/8 [==============================] - 17s 2s/step - loss: 12.0705 - accuracy: 0.7809 - val_loss: 10.6987 - val_accuracy: 0.8433\n",
      "Epoch 4/10\n",
      "8/8 [==============================] - 17s 2s/step - loss: 10.5845 - accuracy: 0.7968 - val_loss: 9.2997 - val_accuracy: 0.8433\n",
      "Epoch 5/10\n",
      "8/8 [==============================] - 16s 2s/step - loss: 8.7640 - accuracy: 0.8406 - val_loss: 8.2532 - val_accuracy: 0.8433\n",
      "Epoch 6/10\n",
      "8/8 [==============================] - 16s 2s/step - loss: 7.6206 - accuracy: 0.8167 - val_loss: 7.1799 - val_accuracy: 0.8433\n",
      "Epoch 7/10\n",
      "8/8 [==============================] - 16s 2s/step - loss: 7.1793 - accuracy: 0.8127 - val_loss: 6.9114 - val_accuracy: 0.8433\n",
      "Epoch 8/10\n",
      "8/8 [==============================] - 16s 2s/step - loss: 6.8260 - accuracy: 0.8486 - val_loss: 6.7858 - val_accuracy: 0.8433\n",
      "Epoch 9/10\n",
      "8/8 [==============================] - 14s 2s/step - loss: 6.6025 - accuracy: 0.8287 - val_loss: 6.0876 - val_accuracy: 0.8433\n",
      "Epoch 10/10\n",
      "8/8 [==============================] - 15s 2s/step - loss: 6.2433 - accuracy: 0.8088 - val_loss: 6.3488 - val_accuracy: 0.8433\n"
     ]
    }
   ],
   "source": [
    "epochs = 10\n",
    "history = model.fit(\n",
    "  train_ds,\n",
    "  validation_data=val_ds,\n",
    "  epochs=epochs\n",
    ")"
   ]
  },
  {
   "cell_type": "markdown",
   "id": "agricultural-worthy",
   "metadata": {},
   "source": [
    "Visualize the Loss Function"
   ]
  },
  {
   "cell_type": "code",
   "execution_count": 10,
   "id": "sought-center",
   "metadata": {},
   "outputs": [
    {
     "data": {
      "image/png": "[encoded data removed]",
      "text/plain": [
       "<Figure size 576x576 with 2 Axes>"
      ]
     },
     "metadata": {
      "needs_background": "light"
     },
     "output_type": "display_data"
    }
   ],
   "source": [
    "import matplotlib.pyplot as plt\n",
    "\n",
    "acc = history.history['accuracy']\n",
    "val_acc = history.history['val_accuracy']\n",
    "\n",
    "loss = history.history['loss']\n",
    "val_loss = history.history['val_loss']\n",
    "\n",
    "epochs_range = range(epochs)\n",
    "\n",
    "plt.figure(figsize=(8, 8))\n",
    "plt.subplot(1, 2, 1)\n",
    "plt.plot(epochs_range, acc, label='Training Accuracy')\n",
    "plt.plot(epochs_range, val_acc, label='Validation Accuracy')\n",
    "plt.legend(loc='lower right')\n",
    "plt.title('Training and Validation Accuracy')\n",
    "\n",
    "plt.subplot(1, 2, 2)\n",
    "plt.plot(epochs_range, loss, label='Training Loss')\n",
    "plt.plot(epochs_range, val_loss, label='Validation Loss')\n",
    "plt.legend(loc='upper right')\n",
    "plt.title('Training and Validation Loss')\n",
    "plt.show()"
   ]
  },
  {
   "cell_type": "code",
   "execution_count": null,
   "id": "contemporary-employment",
   "metadata": {},
   "outputs": [],
   "source": []
  }
 ],
 "metadata": {
  "kernelspec": {
   "display_name": "Python 3",
   "language": "python",
   "name": "python3"
  },
  "language_info": {
   "codemirror_mode": {
    "name": "ipython",
    "version": 3
   },
   "file_extension": ".py",
   "mimetype": "text/x-python",
   "name": "python",
   "nbconvert_exporter": "python",
   "pygments_lexer": "ipython3",
   "version": "3.8.5"
  }
 },
 "nbformat": 4,
 "nbformat_minor": 5
}
